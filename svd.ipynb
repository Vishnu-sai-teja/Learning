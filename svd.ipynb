{
 "cells": [
  {
   "cell_type": "markdown",
   "id": "6ad564c1",
   "metadata": {},
   "source": [
    "# Support Value Decomposition"
   ]
  },
  {
   "cell_type": "code",
   "execution_count": 2,
   "id": "b2a89e9d",
   "metadata": {},
   "outputs": [],
   "source": [
    "import torch\n",
    "\n",
    "import numpy as np\n",
    "seed = torch.manual_seed(42)"
   ]
  },
  {
   "cell_type": "code",
   "execution_count": 3,
   "id": "fae45868",
   "metadata": {},
   "outputs": [
    {
     "name": "stdout",
     "output_type": "stream",
     "text": [
      "tensor([[ 2.6746e+00, -1.4811e+00, -1.1993e+00, -4.3986e-01, -3.2132e+00,\n",
      "         -9.8070e-01,  5.2384e+00,  1.1440e+00,  3.4292e-02, -8.0985e-01],\n",
      "        [-2.6293e+00,  5.5638e-01,  2.8071e+00, -2.1880e+00,  1.5113e+00,\n",
      "         -1.9586e+00, -8.4328e-01, -1.0369e+00,  1.2841e+00,  1.7830e+00],\n",
      "        [ 1.2519e+00, -1.5893e-01, -1.5284e+00,  1.3505e+00, -5.2550e-01,\n",
      "          1.2769e+00, -1.0580e-01,  4.8339e-01, -7.6663e-01, -9.6521e-01],\n",
      "        [ 2.5833e+00, -1.0893e+00, -1.7760e+00,  5.6927e-01, -2.4785e+00,\n",
      "          1.6158e-01,  3.4259e+00,  1.0717e+00, -4.6680e-01, -1.1566e+00],\n",
      "        [-8.3761e-01,  1.5506e-01,  9.3442e-01, -7.6165e-01,  4.4083e-01,\n",
      "         -6.9603e-01, -1.6246e-01, -3.2818e-01,  4.4156e-01,  5.9234e-01],\n",
      "        [ 1.7718e-01,  1.0177e-01, -4.4120e-01,  5.5308e-01,  1.5319e-01,\n",
      "          5.8442e-01, -6.0979e-01,  5.6301e-02, -2.9052e-01, -2.7292e-01],\n",
      "        [-1.6017e-02,  7.9710e-02, -1.2103e-01,  2.0897e-01,  1.4897e-01,\n",
      "          2.3602e-01, -3.7046e-01, -1.3756e-02, -1.0397e-01, -7.2858e-02],\n",
      "        [ 1.1108e+00, -2.7657e-01, -1.1108e+00,  8.0349e-01, -7.1451e-01,\n",
      "          6.9264e-01,  5.5497e-01,  4.4214e-01, -4.8169e-01, -7.0775e-01],\n",
      "        [-6.4689e-01,  3.0791e-01,  3.8113e-01, -4.0177e-02,  6.8502e-01,\n",
      "          7.3725e-02, -1.0261e+00, -2.7179e-01,  6.5410e-02,  2.5107e-01],\n",
      "        [-6.0482e-01, -6.3923e-02,  9.9305e-01, -1.0623e+00, -3.7878e-03,\n",
      "         -1.0740e+00,  7.2463e-01, -2.1982e-01,  5.7648e-01,  6.2066e-01]])\n"
     ]
    }
   ],
   "source": [
    "# Create a tensor of 10*10 size with rank defient\n",
    "\n",
    "d, k = 10, 10\n",
    "\n",
    "w_rank = 2\n",
    "w = torch.randn(10,w_rank) @ torch.randn(w_rank,k)\n",
    "print(w)"
   ]
  },
  {
   "cell_type": "code",
   "execution_count": 4,
   "id": "04c40103",
   "metadata": {},
   "outputs": [
    {
     "name": "stdout",
     "output_type": "stream",
     "text": [
      "Rank of w matrix : 2\n"
     ]
    }
   ],
   "source": [
    "# Cross berify the rank of the matrix\n",
    "print(f'Rank of w matrix : {np.linalg.matrix_rank(w)}')"
   ]
  },
  {
   "cell_type": "code",
   "execution_count": 8,
   "id": "ae11b2ca",
   "metadata": {},
   "outputs": [],
   "source": [
    "U, S, V = torch.svd(w)\n",
    "\n",
    "# Only take the first r - rank rows of the matrix so that we can capture most of the info in these matrices\n",
    "u_r = U[:, :w_rank]\n",
    "s_r = torch.diag(S[:w_rank])\n",
    "v_r = V[:, :w_rank].t()\n"
   ]
  },
  {
   "cell_type": "code",
   "execution_count": null,
   "id": "41133cf2",
   "metadata": {},
   "outputs": [],
   "source": [
    "B = "
   ]
  },
  {
   "cell_type": "code",
   "execution_count": null,
   "id": "f816d53e",
   "metadata": {},
   "outputs": [],
   "source": []
  },
  {
   "cell_type": "code",
   "execution_count": null,
   "id": "a8eb819b",
   "metadata": {},
   "outputs": [],
   "source": []
  }
 ],
 "metadata": {
  "kernelspec": {
   "display_name": "env",
   "language": "python",
   "name": "python3"
  },
  "language_info": {
   "codemirror_mode": {
    "name": "ipython",
    "version": 3
   },
   "file_extension": ".py",
   "mimetype": "text/x-python",
   "name": "python",
   "nbconvert_exporter": "python",
   "pygments_lexer": "ipython3",
   "version": "3.9.18"
  }
 },
 "nbformat": 4,
 "nbformat_minor": 5
}
